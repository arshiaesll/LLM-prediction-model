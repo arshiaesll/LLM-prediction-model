{
 "cells": [
  {
   "cell_type": "code",
   "execution_count": 2,
   "metadata": {},
   "outputs": [],
   "source": [
    "import numpy as np\n",
    "from scipy.stats import norm\n",
    "import matplotlib.pyplot as plt"
   ]
  },
  {
   "cell_type": "code",
   "execution_count": 20,
   "metadata": {},
   "outputs": [
    {
     "data": {
      "text/plain": [
       "np.float64(0.5)"
      ]
     },
     "execution_count": 20,
     "metadata": {},
     "output_type": "execute_result"
    },
    {
     "data": {
      "image/png": "[encoded data removed]",
      "text/plain": [
       "<Figure size 640x480 with 1 Axes>"
      ]
     },
     "metadata": {},
     "output_type": "display_data"
    }
   ],
   "source": [
    "x = np.linspace(norm.ppf(0.01), norm.ppf(0.99), 100)\n",
    "plt.plot(x, norm.pdf(x), \"r\", lw= 1)\n",
    "norm.cdf(0)"
   ]
  },
  {
   "cell_type": "code",
   "execution_count": 23,
   "metadata": {},
   "outputs": [
    {
     "name": "stdout",
     "output_type": "stream",
     "text": [
      "0.8077309735016883\n"
     ]
    }
   ],
   "source": [
    "import math\n",
    "val = norm.cdf( (2000  - 2200) / math.sqrt(52900))\n",
    "print(1 - val)"
   ]
  },
  {
   "cell_type": "code",
   "execution_count": 44,
   "metadata": {},
   "outputs": [
    {
     "name": "stdout",
     "output_type": "stream",
     "text": [
      "[[4.53978687e-05 9.99954602e-01 0.00000000e+00]]\n"
     ]
    }
   ],
   "source": [
    "x = np.array([[10000, 10010, 10]])\n",
    "x = np.array(x)\n",
    "m = np.max(x, axis=1)\n",
    "m = m[:, np.newaxis]\n",
    "e_x = np.exp(x - m)\n",
    "sum = np.sum(e_x, axis =1)\n",
    "sum = sum[:, np.newaxis]\n",
    "ans = e_x / sum\n",
    "print(ans)\n"
   ]
  },
  {
   "cell_type": "code",
   "execution_count": 48,
   "metadata": {},
   "outputs": [
    {
     "name": "stdout",
     "output_type": "stream",
     "text": [
      "<class 'numpy.ndarray'>\n",
      "[[1.        1.        0.9999546]]\n"
     ]
    }
   ],
   "source": [
    "x = np.array([1, 2, 3, 4])\n",
    "x = np.array([[10000, 10010, 10]])\n",
    "x = 1 / (1 + np.exp(-1 * x))\n",
    "print(type(x))\n",
    "print(x)"
   ]
  },
  {
   "cell_type": "code",
   "execution_count": 49,
   "metadata": {},
   "outputs": [],
   "source": [
    "def softmax(x):\n",
    "    \"\"\"\n",
    "    Compute softmax function for a batch of input values. \n",
    "    The first dimension of the input corresponds to the batch size. The second dimension\n",
    "    corresponds to every class in the output. When implementing softmax, you should be careful\n",
    "    to only sum over the second dimension.\n",
    "\n",
    "    Important Note: You must be careful to avoid overflow for this function. Functions\n",
    "    like softmax have a tendency to overflow when very large numbers like e^10000 are computed.\n",
    "    You will know that your function is overflow resistent when it can handle input like:\n",
    "    np.array([[10000, 10010, 10]]) without issues.\n",
    "\n",
    "    Args:\n",
    "        x: A 2d numpy float array of shape batch_size x number_of_classes\n",
    "\n",
    "    Returns:\n",
    "        A 2d numpy float array containing the softmax results of shape batch_size x number_of_classes\n",
    "    \"\"\"\n",
    "    # *** START CODE HERE ***\n",
    "    m = np.max(x, axis = 1)\n",
    "    m = m[:, np.newaxis]\n",
    "    e_x = np.exp(x - m)\n",
    "    sum = np.sum(e_x, axis= 1)\n",
    "    sum = sum[:, np.newaxis]\n",
    "    return e_x / sum\n",
    "    # *** END CODE HERE ***"
   ]
  },
  {
   "cell_type": "code",
   "execution_count": 2,
   "metadata": {},
   "outputs": [
    {
     "name": "stdout",
     "output_type": "stream",
     "text": [
      "{'d'}\n"
     ]
    }
   ],
   "source": [
    "set1 = set([\"a\", \"b\", \"c\"])\n",
    "set2 = set([\"c\", \"d\", \"b\"])\n",
    "print(set2.difference(set1))"
   ]
  },
  {
   "cell_type": "code",
   "execution_count": 19,
   "metadata": {},
   "outputs": [
    {
     "name": "stdout",
     "output_type": "stream",
     "text": [
      "(1.1, 2, 3, 4)\n",
      "(1.1, 2, 3, 4)\n",
      "(1.1, 2, 3, 4)\n",
      "(1.1, 2, 3, 4)\n",
      "(1.1, 2, 3, 4)\n"
     ]
    },
    {
     "data": {
      "text/html": [
       "<div>\n",
       "<style scoped>\n",
       "    .dataframe tbody tr th:only-of-type {\n",
       "        vertical-align: middle;\n",
       "    }\n",
       "\n",
       "    .dataframe tbody tr th {\n",
       "        vertical-align: top;\n",
       "    }\n",
       "\n",
       "    .dataframe thead th {\n",
       "        text-align: right;\n",
       "    }\n",
       "</style>\n",
       "<table border=\"1\" class=\"dataframe\">\n",
       "  <thead>\n",
       "    <tr style=\"text-align: right;\">\n",
       "      <th></th>\n",
       "      <th>Acc</th>\n",
       "      <th>recall</th>\n",
       "      <th>f1</th>\n",
       "      <th>f2</th>\n",
       "    </tr>\n",
       "  </thead>\n",
       "  <tbody>\n",
       "    <tr>\n",
       "      <th>0</th>\n",
       "      <td>1.1</td>\n",
       "      <td>2.0</td>\n",
       "      <td>3.0</td>\n",
       "      <td>4.0</td>\n",
       "    </tr>\n",
       "    <tr>\n",
       "      <th>1</th>\n",
       "      <td>1.1</td>\n",
       "      <td>2.0</td>\n",
       "      <td>3.0</td>\n",
       "      <td>4.0</td>\n",
       "    </tr>\n",
       "    <tr>\n",
       "      <th>2</th>\n",
       "      <td>1.1</td>\n",
       "      <td>2.0</td>\n",
       "      <td>3.0</td>\n",
       "      <td>4.0</td>\n",
       "    </tr>\n",
       "    <tr>\n",
       "      <th>3</th>\n",
       "      <td>1.1</td>\n",
       "      <td>2.0</td>\n",
       "      <td>3.0</td>\n",
       "      <td>4.0</td>\n",
       "    </tr>\n",
       "    <tr>\n",
       "      <th>4</th>\n",
       "      <td>1.1</td>\n",
       "      <td>2.0</td>\n",
       "      <td>3.0</td>\n",
       "      <td>4.0</td>\n",
       "    </tr>\n",
       "  </tbody>\n",
       "</table>\n",
       "</div>"
      ],
      "text/plain": [
       "   Acc  recall   f1   f2\n",
       "0  1.1     2.0  3.0  4.0\n",
       "1  1.1     2.0  3.0  4.0\n",
       "2  1.1     2.0  3.0  4.0\n",
       "3  1.1     2.0  3.0  4.0\n",
       "4  1.1     2.0  3.0  4.0"
      ]
     },
     "execution_count": 19,
     "metadata": {},
     "output_type": "execute_result"
    }
   ],
   "source": [
    "import pandas as pd\n",
    "\n",
    "def f():\n",
    "    return 1.1, 2, 3, 4\n",
    "\n",
    "df = pd.DataFrame(columns=\n",
    "[\"Acc\", \"recall\", \"f1\", \"f2\"]\n",
    ")\n",
    "df\n",
    "for i in range(5):\n",
    "    result = f()\n",
    "    print(result)\n",
    "    df.loc[len(df)] = result\n",
    "df"
   ]
  },
  {
   "cell_type": "code",
   "execution_count": 20,
   "metadata": {},
   "outputs": [],
   "source": [
    "text = \"\"\"\"\n",
    "\n",
    "Here's a long response, aiming for depth, breadth, and a touch of contemplation. I'll touch on a few interconnected themes to create a richer tapestry of ideas.\n",
    "\n",
    "Let us consider, for a moment, the profound nature of **understanding**. It's not merely the passive reception of information, but an active, often arduous, process of constructing meaning. We begin life as blank slates, or perhaps more accurately, as intricately wired biological machines with predispositions and potentials. Our early years are a relentless torrent of sensory input, social interaction, and the gradual, sometimes painful, realization of our own existence and the existence of a world beyond our immediate needs.\n",
    "\n",
    "This world, vast and complex, is not presented to us in a neat, pre-packaged form. Instead, we are tasked with piecing it together, like an archaeologist excavating fragments of a forgotten civilization. Each experience, each conversation, each book we read, adds a new shard to our growing mosaic of understanding. The quality of these shards, and the skill with which we assemble them, determines the clarity and coherence of the picture we ultimately form.\n",
    "\n",
    "The pursuit of understanding is, in many ways, a lifelong endeavor. There are no final destinations, only ever-expanding horizons. What we believe to be true today may be challenged and refined tomorrow by new evidence, different perspectives, or a simple shift in our own internal landscape. This inherent malleability of understanding is not a weakness, but a testament to the dynamic nature of reality and our own capacity for growth.\n",
    "\n",
    "Consider the realm of **knowledge**. It's the accumulated wisdom of humanity, the distilled essence of countless experiments, observations, and reflections. From the earliest cave paintings depicting the hunt to the intricate algorithms governing our digital lives, knowledge is the engine of progress, the bedrock upon which civilizations are built. But knowledge, like a powerful tool, can be used for both good and ill. The same scientific discoveries that have eradicated diseases and unlocked the secrets of the universe can also be weaponized, leading to unprecedented destruction. This duality underscores the critical importance of **wisdom**, which is the judicious application of knowledge, tempered by ethical considerations and a deep understanding of consequences.\n",
    "\n",
    "Wisdom, unlike raw knowledge, is not something that can be easily downloaded or memorized. It is cultivated through experience, introspection, and a willingness to learn from mistakes. It involves developing a discerning eye, the ability to differentiate between what is important and what is trivial, between what is beneficial and what is detrimental. It requires a certain humility, an acknowledgment of our own limitations and the vastness of what we do not yet know.\n",
    "\n",
    "This brings us to the concept of **connection**. In an increasingly interconnected world, the ability to understand and empathize with others is more vital than ever. Our individual understanding, however profound, remains incomplete without the context and perspectives offered by our fellow human beings. Through shared experiences, collaborative efforts, and open dialogue, we can expand our own horizons, challenge our assumptions, and build bridges across divides.\n",
    "\n",
    "The digital age, while offering unprecedented opportunities for connection, also presents new challenges. The sheer volume of information can be overwhelming, leading to superficial engagement rather than deep understanding. The echo chambers of social media can reinforce existing biases, hindering our ability to truly hear and appreciate differing viewpoints. Navigating this complex landscape requires a conscious effort to cultivate critical thinking, media literacy, and a genuine desire to connect with diverse voices.\n",
    "\n",
    "Furthermore, let us reflect on the nature of **time**. It is the invisible current that carries us all forward, an indifferent force that shapes our lives and our world. We are born, we live, and we pass away, leaving behind ripples of our existence. The awareness of our own finitude can be a powerful motivator, urging us to make the most of our time, to pursue our passions, and to leave a positive mark on the world. It also encourages a certain perspective, a recognition of the transient nature of many of our concerns and a greater appreciation for the enduring values of love, compassion, and shared humanity.\n",
    "\n",
    "The passage of time also allows for the slow, steady evolution of ideas and societies. What was once radical or unthinkable can become commonplace, and vice versa. This historical perspective is crucial for understanding the present and for shaping a more just and equitable future. It teaches us that progress is not linear, and that setbacks are often part of the journey.\n",
    "\n",
    "In this intricate dance of understanding, knowledge, wisdom, connection, and time, we find the essence of the human experience. It is a continuous unfolding, a perpetual learning, and a constant striving to make sense of ourselves and the universe around us. It is a journey filled with both profound joys and inevitable sorrows, a testament to our resilience, our creativity, and our enduring capacity for growth. The longest response, perhaps, is the one that acknowledges the endless journey of exploration, the ongoing quest for meaning, and the profound interconnectedness of all things. It is the response that never truly ends, but rather invites further contemplation and continued engagement with the world, in all its magnificent complexity.\n",
    "\n",
    "\"\"\""
   ]
  },
  {
   "cell_type": "code",
   "execution_count": null,
   "metadata": {},
   "outputs": [
    {
     "name": "stdout",
     "output_type": "stream",
     "text": [
      "['\"', '', \"Here's\", 'a', 'long', 'response,', 'aiming', 'for', 'depth,', 'breadth,', 'and', 'a', 'touch', 'of', 'contemplation', '', '', '', '', '', '', '', '', '', '', '', '', '', '', '', '', '', '', '', '', '', '', '', '', '', '', '', '', '', '', '', '', '', '', '', '', '', '.', \"I'll\", 'touch', 'on', 'a', 'few', 'interconnected', 'themes', 'to', 'create', 'a', 'richer', 'tapestry', 'of', 'ideas', '', '', '', '', '', '', '', '', '', '', '', '', '', '', '', '', '', '', '', '', '', '', '', '', '', '', '', '', '', '', '', '', '', '', '', '', '', '.', '', 'Let', 'us', 'consider,', 'for', 'a', 'moment,', 'the', 'profound', 'nature', 'of', '**understanding**', '', '', '', '', '', '', '', '', '', '', '', '', '', '', '', '', '', '', '', '', '', '', '', '', '', '', '', '', '', '', '', '', '', '', '', '', '', '.', \"It's\", 'not', 'merely', 'the', 'passive', 'reception', 'of', 'information,', 'but', 'an', 'active,', 'often', 'arduous,', 'process', 'of', 'constructing', 'meaning', '', '', '', '', '', '', '', '', '', '', '', '', '', '', '', '', '', '', '', '', '', '', '', '', '', '', '', '', '', '', '', '', '', '', '', '', '', '.', 'We', 'begin', 'life', 'as', 'blank', 'slates,', 'or', 'perhaps', 'more', 'accurately,', 'as', 'intricately', 'wired', 'biological', 'machines', 'with', 'predispositions', 'and', 'potentials', '', '', '', '', '', '', '', '', '', '', '', '', '', '', '', '', '', '', '', '', '', '', '', '', '', '', '', '', '', '', '', '', '', '', '', '', '', '.', 'Our', 'early', 'years', 'are', 'a', 'relentless', 'torrent', 'of', 'sensory', 'input,', 'social', 'interaction,', 'and', 'the', 'gradual,', 'sometimes', 'painful,', 'realization', 'of', 'our', 'own', 'existence', 'and', 'the', 'existence', 'of', 'a', 'world', 'beyond', 'our', 'immediate', 'needs', '', '', '', '', '', '', '', '', '', '', '', '', '', '', '', '', '', '', '', '', '', '', '', '', '', '', '', '', '', '', '', '', '', '', '', '', '', '.', '', 'This', 'world,', 'vast', 'and', 'complex,', 'is', 'not', 'presented', 'to', 'us', 'in', 'a', 'neat,', 'pre-packaged', 'form', '', '', '', '', '', '', '', '', '', '', '', '', '', '', '', '', '', '', '', '', '', '', '', '', '', '', '', '', '', '', '', '', '', '', '', '', '', '.', 'Instead,', 'we', 'are', 'tasked', 'with', 'piecing', 'it', 'together,', 'like', 'an', 'archaeologist', 'excavating', 'fragments', 'of', 'a', 'forgotten', 'civilization', '', '', '', '', '', '', '', '', '', '', '', '', '', '', '', '', '', '', '', '', '', '', '', '', '', '', '', '', '', '', '', '', '', '', '', '', '', '.', 'Each', 'experience,', 'each', 'conversation,', 'each', 'book', 'we', 'read,', 'adds', 'a', 'new', 'shard', 'to', 'our', 'growing', 'mosaic', 'of', 'understanding', '', '', '', '', '', '', '', '', '', '', '', '', '', '', '', '', '', '', '', '', '', '', '', '', '', '', '', '', '', '', '', '', '', '', '', '', '', '.', 'The', 'quality', 'of', 'these', 'shards,', 'and', 'the', 'skill', 'with', 'which', 'we', 'assemble', 'them,', 'determines', 'the', 'clarity', 'and', 'coherence', 'of', 'the', 'picture', 'we', 'ultimately', 'form', '', '', '', '', '', '', '', '', '', '', '', '', '', '', '', '', '', '', '', '', '', '', '', '', '', '', '', '', '', '', '', '', '', '', '', '', '', '.', '', 'The', 'pursuit', 'of', 'understanding', 'is,', 'in', 'many', 'ways,', 'a', 'lifelong', 'endeavor', '', '', '', '', '', '', '', '', '', '', '', '', '', '', '', '', '', '', '', '', '', '', '', '', '', '', '', '', '', '', '', '', '', '', '', '', '', '.', 'There', 'are', 'no', 'final', 'destinations,', 'only', 'ever-expanding', 'horizons', '', '', '', '', '', '', '', '', '', '', '', '', '', '', '', '', '', '', '', '', '', '', '', '', '', '', '', '', '', '', '', '', '', '', '', '', '', '.', 'What', 'we', 'believe', 'to', 'be', 'true', 'today', 'may', 'be', 'challenged', 'and', 'refined', 'tomorrow', 'by', 'new', 'evidence,', 'different', 'perspectives,', 'or', 'a', 'simple', 'shift', 'in', 'our', 'own', 'internal', 'landscape', '', '', '', '', '', '', '', '', '', '', '', '', '', '', '', '', '', '', '', '', '', '', '', '', '', '', '', '', '', '', '', '', '', '', '', '', '', '.', 'This', 'inherent', 'malleability', 'of', 'understanding', 'is', 'not', 'a', 'weakness,', 'but', 'a', 'testament', 'to', 'the', 'dynamic', 'nature', 'of', 'reality', 'and', 'our', 'own', 'capacity', 'for', 'growth', '', '', '', '', '', '', '', '', '', '', '', '', '', '', '', '', '', '', '', '', '', '', '', '', '', '', '', '', '', '', '', '', '', '', '', '', '', '.', '', 'Consider', 'the', 'realm', 'of', '**knowledge**', '', '', '', '', '', '', '', '', '', '', '', '', '', '', '', '', '', '', '', '', '', '', '', '', '', '', '', '', '', '', '', '', '', '', '', '', '', '.', \"It's\", 'the', 'accumulated', 'wisdom', 'of', 'humanity,', 'the', 'distilled', 'essence', 'of', 'countless', 'experiments,', 'observations,', 'and', 'reflections', '', '', '', '', '', '', '', '', '', '', '', '', '', '', '', '', '', '', '', '', '', '', '', '', '', '', '', '', '', '', '', '', '', '', '', '', '', '.', 'From', 'the', 'earliest', 'cave', 'paintings', 'depicting', 'the', 'hunt', 'to', 'the', 'intricate', 'algorithms', 'governing', 'our', 'digital', 'lives,', 'knowledge', 'is', 'the', 'engine', 'of', 'progress,', 'the', 'bedrock', 'upon', 'which', 'civilizations', 'are', 'built', '', '', '', '', '', '', '', '', '', '', '', '', '', '', '', '', '', '', '', '', '', '', '', '', '', '', '', '', '', '', '', '', '', '', '', '', '', '.', 'But', 'knowledge,', 'like', 'a', 'powerful', 'tool,', 'can', 'be', 'used', 'for', 'both', 'good', 'and', 'ill', '', '', '', '', '', '', '', '', '', '', '', '', '', '', '', '', '', '', '', '', '', '', '', '', '', '', '', '', '', '', '', '', '', '', '', '', '', '.', 'The', 'same', 'scientific', 'discoveries', 'that', 'have', 'eradicated', 'diseases', 'and', 'unlocked', 'the', 'secrets', 'of', 'the', 'universe', 'can', 'also', 'be', 'weaponized,', 'leading', 'to', 'unprecedented', 'destruction', '', '', '', '', '', '', '', '', '', '', '', '', '', '', '', '', '', '', '', '', '', '', '', '', '', '', '', '', '', '', '', '', '', '', '', '', '', '.', 'This', 'duality', 'underscores', 'the', 'critical', 'importance', 'of', '**wisdom**,', 'which', 'is', 'the', 'judicious', 'application', 'of', 'knowledge,', 'tempered', 'by', 'ethical', 'considerations', 'and', 'a', 'deep', 'understanding', 'of', 'consequences', '', '', '', '', '', '', '', '', '', '', '', '', '', '', '', '', '', '', '', '', '', '', '', '', '', '', '', '', '', '', '', '', '', '', '', '', '', '.', '', 'Wisdom,', 'unlike', 'raw', 'knowledge,', 'is', 'not', 'something', 'that', 'can', 'be', 'easily', 'downloaded', 'or', 'memorized', '', '', '', '', '', '', '', '', '', '', '', '', '', '', '', '', '', '', '', '', '', '', '', '', '', '', '', '', '', '', '', '', '', '', '', '', '', '.', 'It', 'is', 'cultivated', 'through', 'experience,', 'introspection,', 'and', 'a', 'willingness', 'to', 'learn', 'from', 'mistakes', '', '', '', '', '', '', '', '', '', '', '', '', '', '', '', '', '', '', '', '', '', '', '', '', '', '', '', '', '', '', '', '', '', '', '', '', '', '.', 'It', 'involves', 'developing', 'a', 'discerning', 'eye,', 'the', 'ability', 'to', 'differentiate', 'between', 'what', 'is', 'important', 'and', 'what', 'is', 'trivial,', 'between', 'what', 'is', 'beneficial', 'and', 'what', 'is', 'detrimental', '', '', '', '', '', '', '', '', '', '', '', '', '', '', '', '', '', '', '', '', '', '', '', '', '', '', '', '', '', '', '', '', '', '', '', '', '', '.', 'It', 'requires', 'a', 'certain', 'humility,', 'an', 'acknowledgment', 'of', 'our', 'own', 'limitations', 'and', 'the', 'vastness', 'of', 'what', 'we', 'do', 'not', 'yet', 'know', '', '', '', '', '', '', '', '', '', '', '', '', '', '', '', '', '', '', '', '', '', '', '', '', '', '', '', '', '', '', '', '', '', '', '', '', '', '.', '', 'This', 'brings', 'us', 'to', 'the', 'concept', 'of', '**connection**', '', '', '', '', '', '', '', '', '', '', '', '', '', '', '', '', '', '', '', '', '', '', '', '', '', '', '', '', '', '', '', '', '', '', '', '', '', '.', 'In', 'an', 'increasingly', 'interconnected', 'world,', 'the', 'ability', 'to', 'understand', 'and', 'empathize', 'with', 'others', 'is', 'more', 'vital', 'than', 'ever', '', '', '', '', '', '', '', '', '', '', '', '', '', '', '', '', '', '', '', '', '', '', '', '', '', '', '', '', '', '', '', '', '', '', '', '', '', '.', 'Our', 'individual', 'understanding,', 'however', 'profound,', 'remains', 'incomplete', 'without', 'the', 'context', 'and', 'perspectives', 'offered', 'by', 'our', 'fellow', 'human', 'beings', '', '', '', '', '', '', '', '', '', '', '', '', '', '', '', '', '', '', '', '', '', '', '', '', '', '', '', '', '', '', '', '', '', '', '', '', '', '.', 'Through', 'shared', 'experiences,', 'collaborative', 'efforts,', 'and', 'open', 'dialogue,', 'we', 'can', 'expand', 'our', 'own', 'horizons,', 'challenge', 'our', 'assumptions,', 'and', 'build', 'bridges', 'across', 'divides', '', '', '', '', '', '', '', '', '', '', '', '', '', '', '', '', '', '', '', '', '', '', '', '', '', '', '', '', '', '', '', '', '', '', '', '', '', '.', '', 'The', 'digital', 'age,', 'while', 'offering', 'unprecedented', 'opportunities', 'for', 'connection,', 'also', 'presents', 'new', 'challenges', '', '', '', '', '', '', '', '', '', '', '', '', '', '', '', '', '', '', '', '', '', '', '', '', '', '', '', '', '', '', '', '', '', '', '', '', '', '.', 'The', 'sheer', 'volume', 'of', 'information', 'can', 'be', 'overwhelming,', 'leading', 'to', 'superficial', 'engagement', 'rather', 'than', 'deep', 'understanding', '', '', '', '', '', '', '', '', '', '', '', '', '', '', '', '', '', '', '', '', '', '', '', '', '', '', '', '', '', '', '', '', '', '', '', '', '', '.', 'The', 'echo', 'chambers', 'of', 'social', 'media', 'can', 'reinforce', 'existing', 'biases,', 'hindering', 'our', 'ability', 'to', 'truly', 'hear', 'and', 'appreciate', 'differing', 'viewpoints', '', '', '', '', '', '', '', '', '', '', '', '', '', '', '', '', '', '', '', '', '', '', '', '', '', '', '', '', '', '', '', '', '', '', '', '', '', '.', 'Navigating', 'this', 'complex', 'landscape', 'requires', 'a', 'conscious', 'effort', 'to', 'cultivate', 'critical', 'thinking,', 'media', 'literacy,', 'and', 'a', 'genuine', 'desire', 'to', 'connect', 'with', 'diverse', 'voices', '', '', '', '', '', '', '', '', '', '', '', '', '', '', '', '', '', '', '', '', '', '', '', '', '', '', '', '', '', '', '', '', '', '', '', '', '', '.', '', 'Furthermore,', 'let', 'us', 'reflect', 'on', 'the', 'nature', 'of', '**time**', '', '', '', '', '', '', '', '', '', '', '', '', '', '', '', '', '', '', '', '', '', '', '', '', '', '', '', '', '', '', '', '', '', '', '', '', '', '.', 'It', 'is', 'the', 'invisible', 'current', 'that', 'carries', 'us', 'all', 'forward,', 'an', 'indifferent', 'force', 'that', 'shapes', 'our', 'lives', 'and', 'our', 'world', '', '', '', '', '', '', '', '', '', '', '', '', '', '', '', '', '', '', '', '', '', '', '', '', '', '', '', '', '', '', '', '', '', '', '', '', '', '.', 'We', 'are', 'born,', 'we', 'live,', 'and', 'we', 'pass', 'away,', 'leaving', 'behind', 'ripples', 'of', 'our', 'existence', '', '', '', '', '', '', '', '', '', '', '', '', '', '', '', '', '', '', '', '', '', '', '', '', '', '', '', '', '', '', '', '', '', '', '', '', '', '.', 'The', 'awareness', 'of', 'our', 'own', 'finitude', 'can', 'be', 'a', 'powerful', 'motivator,', 'urging', 'us', 'to', 'make', 'the', 'most', 'of', 'our', 'time,', 'to', 'pursue', 'our', 'passions,', 'and', 'to', 'leave', 'a', 'positive', 'mark', 'on', 'the', 'world', '', '', '', '', '', '', '', '', '', '', '', '', '', '', '', '', '', '', '', '', '', '', '', '', '', '', '', '', '', '', '', '', '', '', '', '', '', '.', 'It', 'also', 'encourages', 'a', 'certain', 'perspective,', 'a', 'recognition', 'of', 'the', 'transient', 'nature', 'of', 'many', 'of', 'our', 'concerns', 'and', 'a', 'greater', 'appreciation', 'for', 'the', 'enduring', 'values', 'of', 'love,', 'compassion,', 'and', 'shared', 'humanity', '', '', '', '', '', '', '', '', '', '', '', '', '', '', '', '', '', '', '', '', '', '', '', '', '', '', '', '', '', '', '', '', '', '', '', '', '', '.', '', 'The', 'passage', 'of', 'time', 'also', 'allows', 'for', 'the', 'slow,', 'steady', 'evolution', 'of', 'ideas', 'and', 'societies', '', '', '', '', '', '', '', '', '', '', '', '', '', '', '', '', '', '', '', '', '', '', '', '', '', '', '', '', '', '', '', '', '', '', '', '', '', '.', 'What', 'was', 'once', 'radical', 'or', 'unthinkable', 'can', 'become', 'commonplace,', 'and', 'vice', 'versa', '', '', '', '', '', '', '', '', '', '', '', '', '', '', '', '', '', '', '', '', '', '', '', '', '', '', '', '', '', '', '', '', '', '', '', '', '', '.', 'This', 'historical', 'perspective', 'is', 'crucial', 'for', 'understanding', 'the', 'present', 'and', 'for', 'shaping', 'a', 'more', 'just', 'and', 'equitable', 'future', '', '', '', '', '', '', '', '', '', '', '', '', '', '', '', '', '', '', '', '', '', '', '', '', '', '', '', '', '', '', '', '', '', '', '', '', '', '.', 'It', 'teaches', 'us', 'that', 'progress', 'is', 'not', 'linear,', 'and', 'that', 'setbacks', 'are', 'often', 'part', 'of', 'the', 'journey', '', '', '', '', '', '', '', '', '', '', '', '', '', '', '', '', '', '', '', '', '', '', '', '', '', '', '', '', '', '', '', '', '', '', '', '', '', '.', '', 'In', 'this', 'intricate', 'dance', 'of', 'understanding,', 'knowledge,', 'wisdom,', 'connection,', 'and', 'time,', 'we', 'find', 'the', 'essence', 'of', 'the', 'human', 'experience', '', '', '', '', '', '', '', '', '', '', '', '', '', '', '', '', '', '', '', '', '', '', '', '', '', '', '', '', '', '', '', '', '', '', '', '', '', '.', 'It', 'is', 'a', 'continuous', 'unfolding,', 'a', 'perpetual', 'learning,', 'and', 'a', 'constant', 'striving', 'to', 'make', 'sense', 'of', 'ourselves', 'and', 'the', 'universe', 'around', 'us', '', '', '', '', '', '', '', '', '', '', '', '', '', '', '', '', '', '', '', '', '', '', '', '', '', '', '', '', '', '', '', '', '', '', '', '', '', '.', 'It', 'is', 'a', 'journey', 'filled', 'with', 'both', 'profound', 'joys', 'and', 'inevitable', 'sorrows,', 'a', 'testament', 'to', 'our', 'resilience,', 'our', 'creativity,', 'and', 'our', 'enduring', 'capacity', 'for', 'growth', '', '', '', '', '', '', '', '', '', '', '', '', '', '', '', '', '', '', '', '', '', '', '', '', '', '', '', '', '', '', '', '', '', '', '', '', '', '.', 'The', 'longest', 'response,', 'perhaps,', 'is', 'the', 'one', 'that', 'acknowledges', 'the', 'endless', 'journey', 'of', 'exploration,', 'the', 'ongoing', 'quest', 'for', 'meaning,', 'and', 'the', 'profound', 'interconnectedness', 'of', 'all', 'things', '', '', '', '', '', '', '', '', '', '', '', '', '', '', '', '', '', '', '', '', '', '', '', '', '', '', '', '', '', '', '', '', '', '', '', '', '', '.', 'It', 'is', 'the', 'response', 'that', 'never', 'truly', 'ends,', 'but', 'rather', 'invites', 'further', 'contemplation', 'and', 'continued', 'engagement', 'with', 'the', 'world,', 'in', 'all', 'its', 'magnificent', 'complexity', '', '', '', '', '', '', '', '', '', '', '', '', '', '', '', '', '', '', '', '', '', '', '', '', '', '', '', '', '', '', '', '', '', '', '', '', '', '.', '', '']\n"
     ]
    }
   ],
   "source": [
    "text = text.replace(\"\\n\", \" \")\n",
    "punctuation_marks = [\n",
    "    \".\", \",\", \";\", \":\", \"?\", \"!\",\n",
    "    \"'\", '\"', \"‘\", \"’\", \"“\", \"”\",\n",
    "    \"(\", \")\", \"[\", \"]\", \"{\", \"}\", \"<\", \">\",\n",
    "    \"-\", \"–\", \"—\", \"/\", \"\\\\\", \"|\",\n",
    "    \"@\", \"#\", \"$\", \"%\", \"&\", \"*\", \"^\", \"_\", \"~\", \"=\", \"+\"\n",
    "]\n",
    "\n",
    "for item in punctuation_marks:\n",
    "    text = text.replace(item, f\" {item}\")\n",
    "print(text.split(\" \"))"
   ]
  },
  {
   "cell_type": "code",
   "execution_count": null,
   "metadata": {},
   "outputs": [],
   "source": []
  }
 ],
 "metadata": {
  "kernelspec": {
   "display_name": "cs109project",
   "language": "python",
   "name": "python3"
  },
  "language_info": {
   "codemirror_mode": {
    "name": "ipython",
    "version": 3
   },
   "file_extension": ".py",
   "mimetype": "text/x-python",
   "name": "python",
   "nbconvert_exporter": "python",
   "pygments_lexer": "ipython3",
   "version": "3.13.5"
  }
 },
 "nbformat": 4,
 "nbformat_minor": 2
}
